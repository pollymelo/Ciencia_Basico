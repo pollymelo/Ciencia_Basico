{
  "nbformat": 4,
  "nbformat_minor": 0,
  "metadata": {
    "colab": {
      "provenance": [],
      "authorship_tag": "ABX9TyO5HOgIXJujy9+xZzhdymrq",
      "include_colab_link": true
    },
    "kernelspec": {
      "name": "python3",
      "display_name": "Python 3"
    },
    "language_info": {
      "name": "python"
    }
  },
  "cells": [
    {
      "cell_type": "markdown",
      "metadata": {
        "id": "view-in-github",
        "colab_type": "text"
      },
      "source": [
        "<a href=\"https://colab.research.google.com/github/pollymelo/Ciencia_Basico/blob/main/Oficina3.ipynb\" target=\"_parent\"><img src=\"https://colab.research.google.com/assets/colab-badge.svg\" alt=\"Open In Colab\"/></a>"
      ]
    },
    {
      "cell_type": "markdown",
      "source": [
        " Questão: Suponha que você tem um array que armazena os nomes de cinco frutas: [“Maçã”, “Banana”, “Cereja”, “Damasco”, “Uva”].\n",
        "Como você adicionaria uma nova fruta ao final do array e como removeria a fruta da terceira posição?"
      ],
      "metadata": {
        "id": "U8qYq_mmf0RS"
      }
    },
    {
      "cell_type": "code",
      "source": [
        "frutas = [\"Maçã\", \"Banana\", \"Cereja\", \"Damasco\", \"Uva\"]\n",
        "frutas.append(\"Goiaba\")\n",
        "print(frutas)\n",
        "\n",
        "frutas.pop(2)\n",
        "print(frutas)"
      ],
      "metadata": {
        "colab": {
          "base_uri": "https://localhost:8080/"
        },
        "id": "kJ3cOvo7f1Mm",
        "outputId": "72c0b3f7-2995-49e6-bffe-c19fcc44fff3"
      },
      "execution_count": null,
      "outputs": [
        {
          "output_type": "stream",
          "name": "stdout",
          "text": [
            "['Maçã', 'Banana', 'Cereja', 'Damasco', 'Uva', 'Goiaba']\n",
            "['Maçã', 'Banana', 'Damasco', 'Uva', 'Goiaba']\n"
          ]
        }
      ]
    },
    {
      "cell_type": "markdown",
      "source": [
        "Questão: Imagine um array que armazena os nomes de três cores: “Azul”, “Vermelho” e “Amarelo”.\n",
        "Como você adicionaria a cor “Verde” ao início da lista e como removeria a segunda cor?"
      ],
      "metadata": {
        "id": "123g9CdUf1g5"
      }
    },
    {
      "cell_type": "code",
      "source": [
        "cores = [\"Azul\", \"Vermelho\", \"Amarelo\"]\n",
        "cores.insert(0, \"Laranja\")\n",
        "print(cores)\n",
        "\n",
        "cores.pop(1)\n",
        "print(cores)"
      ],
      "metadata": {
        "colab": {
          "base_uri": "https://localhost:8080/"
        },
        "id": "wmixg460f4GV",
        "outputId": "350f7c11-14cf-4e8d-95c0-657669284db6"
      },
      "execution_count": null,
      "outputs": [
        {
          "output_type": "stream",
          "name": "stdout",
          "text": [
            "['Laranja', 'Azul', 'Vermelho', 'Amarelo']\n",
            "['Laranja', 'Vermelho', 'Amarelo']\n"
          ]
        }
      ]
    },
    {
      "cell_type": "markdown",
      "source": [
        " Questão: Considere uma pilha utilizada para gerenciar uma sequência de livros.\n",
        "Se você adicionar três livros à pilha e depois remover o livro no topo, qual livro será o próximo no topo da pilha? Dê um exemplo com os livros “Livro A”, “Livro B” e “Livro C”."
      ],
      "metadata": {
        "id": "1mVljXZcf4hw"
      }
    },
    {
      "cell_type": "code",
      "source": [
        "livros = [ ]\n",
        "livros.append(\"Livro A\")\n",
        "livros.append(\"Livro B\")\n",
        "livros.append(\"Livro C\")\n",
        "print(livros)\n",
        "\n",
        "livros.pop()\n",
        "print(livros)"
      ],
      "metadata": {
        "colab": {
          "base_uri": "https://localhost:8080/"
        },
        "id": "duJmLqA4f6so",
        "outputId": "b79ec176-f37f-45de-f2bb-495049f4a2e5"
      },
      "execution_count": null,
      "outputs": [
        {
          "output_type": "stream",
          "name": "stdout",
          "text": [
            "['Livro A', 'Livro B', 'Livro C']\n",
            "['Livro A', 'Livro B']\n"
          ]
        }
      ]
    },
    {
      "cell_type": "markdown",
      "source": [
        "Questão: Imagine uma fila utilizada para gerenciar a ordem de atendimento em um consultório médico.\n",
        "Se quatro pacientes são adicionados à fila e dois são atendidos, quem serão os próximos dois pacientes na ordem de atendimento? Considere os pacientes “Paciente 1”, “Paciente 2”, “Paciente 3” e “Paciente 4”."
      ],
      "metadata": {
        "id": "pjfxhu9Cf7KZ"
      }
    },
    {
      "cell_type": "code",
      "source": [
        "pacientes = [ ]\n",
        "pacientes.append(\"Paciente 1\")\n",
        "pacientes.append(\"Paciente 2\")\n",
        "pacientes.append(\"Paciente 3\")\n",
        "pacientes.append(\"Paciente 4\")\n",
        "\n",
        "print(pacientes)\n",
        "\n",
        "pacientes.pop(0)\n",
        "print(pacientes)\n",
        "\n",
        "pacientes.pop(0)\n",
        "print(pacientes)"
      ],
      "metadata": {
        "colab": {
          "base_uri": "https://localhost:8080/"
        },
        "id": "n1Et52JSf9mS",
        "outputId": "7d64f46b-6d26-4894-cf24-bad40d76e5e0"
      },
      "execution_count": null,
      "outputs": [
        {
          "output_type": "stream",
          "name": "stdout",
          "text": [
            "['Paciente 1', 'Paciente 2', 'Paciente 3', 'Paciente 4']\n",
            "['Paciente 2', 'Paciente 3', 'Paciente 4']\n",
            "['Paciente 3', 'Paciente 4']\n"
          ]
        }
      ]
    }
  ]
}