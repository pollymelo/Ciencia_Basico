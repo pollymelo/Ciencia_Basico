{
  "nbformat": 4,
  "nbformat_minor": 0,
  "metadata": {
    "colab": {
      "provenance": [],
      "authorship_tag": "ABX9TyPrY0Q13xOq6LITjPMVUQ5c",
      "include_colab_link": true
    },
    "kernelspec": {
      "name": "python3",
      "display_name": "Python 3"
    },
    "language_info": {
      "name": "python"
    }
  },
  "cells": [
    {
      "cell_type": "markdown",
      "metadata": {
        "id": "view-in-github",
        "colab_type": "text"
      },
      "source": [
        "<a href=\"https://colab.research.google.com/github/pollymelo/Ciencia_Basico/blob/main/Oficina4.ipynb\" target=\"_parent\"><img src=\"https://colab.research.google.com/assets/colab-badge.svg\" alt=\"Open In Colab\"/></a>"
      ]
    },
    {
      "cell_type": "markdown",
      "source": [
        "Use a lista de números: [12, 45, 67, 23, 89, 34, 22, 90, 56, 78]."
      ],
      "metadata": {
        "id": "NSuZPAv6kckw"
      }
    },
    {
      "cell_type": "code",
      "source": [
        "import pandas as pd\n",
        "import numpy as np\n",
        "\n",
        "arr = np.array([12, 45, 67, 23, 89, 34, 22, 90, 56, 78])"
      ],
      "metadata": {
        "id": "_O8bWTRKkfyL"
      },
      "execution_count": null,
      "outputs": []
    },
    {
      "cell_type": "markdown",
      "source": [
        "Calcule a média dos números usando a biblioteca numpy."
      ],
      "metadata": {
        "id": "1z0UjU7XktAg"
      }
    },
    {
      "cell_type": "code",
      "source": [
        "media = np.mean(arr)\n",
        "print(media)"
      ],
      "metadata": {
        "id": "Jsak7GN7ku62",
        "colab": {
          "base_uri": "https://localhost:8080/"
        },
        "outputId": "e0c7160a-552e-450b-ca4a-c167e16ea70a"
      },
      "execution_count": null,
      "outputs": [
        {
          "output_type": "stream",
          "name": "stdout",
          "text": [
            "51.6\n"
          ]
        }
      ]
    },
    {
      "cell_type": "markdown",
      "source": [
        "Identifique os números que são maiores que a média."
      ],
      "metadata": {
        "id": "dlSUSecskyb9"
      }
    },
    {
      "cell_type": "code",
      "source": [
        "arr_compare = arr > media\n",
        "print(arr_compare)\n",
        "\n",
        "arr_maiores = arr[arr_compare]\n",
        "print(arr_maiores)"
      ],
      "metadata": {
        "id": "-wyI5Fc2k0Cg",
        "colab": {
          "base_uri": "https://localhost:8080/"
        },
        "outputId": "1a5994fd-418c-4688-9ebc-b6e7b640487d"
      },
      "execution_count": null,
      "outputs": [
        {
          "output_type": "stream",
          "name": "stdout",
          "text": [
            "[False False  True False  True False False  True  True  True]\n",
            "[67 89 90 56 78]\n"
          ]
        }
      ]
    },
    {
      "cell_type": "markdown",
      "source": [
        "Armazene os números maiores que a média em um DataFrame do pandas."
      ],
      "metadata": {
        "id": "Zm9nfzpLk0a4"
      }
    },
    {
      "cell_type": "code",
      "source": [
        "numeros_maiores_que_media = pd.DataFrame(arr_maiores)\n",
        "print(numeros_maiores_que_media)"
      ],
      "metadata": {
        "id": "9-BSjRx5k2os",
        "colab": {
          "base_uri": "https://localhost:8080/"
        },
        "outputId": "12572160-b062-4848-8af4-af3848b61a28"
      },
      "execution_count": null,
      "outputs": [
        {
          "output_type": "stream",
          "name": "stdout",
          "text": [
            "    0\n",
            "0  67\n",
            "1  89\n",
            "2  90\n",
            "3  56\n",
            "4  78\n"
          ]
        }
      ]
    },
    {
      "cell_type": "markdown",
      "source": [
        "Salve o DataFrame em um arquivo CSV chamado \"numeros_maiores_que_media.csv\""
      ],
      "metadata": {
        "id": "V4-Ld0kHk3A7"
      }
    },
    {
      "cell_type": "code",
      "source": [
        "arquivo = numeros_maiores_que_media.to_csv('numeros_maiores_que_media.csv', index=False)\n",
        "\n",
        "leitura = pd.read_csv('numeros_maiores_que_media.csv')\n",
        "print(leitura)"
      ],
      "metadata": {
        "id": "dkouBkDSk50u",
        "colab": {
          "base_uri": "https://localhost:8080/"
        },
        "outputId": "f9b105bc-99ca-4b7a-e16b-ef62620d9ef6"
      },
      "execution_count": null,
      "outputs": [
        {
          "output_type": "stream",
          "name": "stdout",
          "text": [
            "    0\n",
            "0  67\n",
            "1  89\n",
            "2  90\n",
            "3  56\n",
            "4  78\n"
          ]
        }
      ]
    }
  ]
}