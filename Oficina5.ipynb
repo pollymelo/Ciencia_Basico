{
  "nbformat": 4,
  "nbformat_minor": 0,
  "metadata": {
    "colab": {
      "provenance": [],
      "authorship_tag": "ABX9TyM2NeOQpG6FuOpl+4k7BVt6",
      "include_colab_link": true
    },
    "kernelspec": {
      "name": "python3",
      "display_name": "Python 3"
    },
    "language_info": {
      "name": "python"
    }
  },
  "cells": [
    {
      "cell_type": "markdown",
      "metadata": {
        "id": "view-in-github",
        "colab_type": "text"
      },
      "source": [
        "<a href=\"https://colab.research.google.com/github/pollymelo/Ciencia_Basico/blob/main/Oficina5.ipynb\" target=\"_parent\"><img src=\"https://colab.research.google.com/assets/colab-badge.svg\" alt=\"Open In Colab\"/></a>"
      ]
    },
    {
      "cell_type": "markdown",
      "source": [
        "Como você poderia usar os fundamentos da estatística para obter insights com base nos dados de tempo de espera nas filas e na satisfação dos clientes? Quais técnicas estatísticas, como medidas de tendência central, dispersão, correlação e regressão, você pode utilizar para identificar padrões e relações significativas que ajudem a melhorar a experiência do cliente?"
      ],
      "metadata": {
        "id": "m9rKTCTgJuPZ"
      }
    },
    {
      "cell_type": "code",
      "execution_count": 44,
      "metadata": {
        "id": "F_rmJNLaJtLb"
      },
      "outputs": [],
      "source": [
        "import pandas as pd\n",
        "from sklearn.linear_model import LinearRegression\n",
        "import seaborn as sns\n",
        "import statsmodels.api as sm\n",
        "import scipy\n",
        "from scipy.special import factorial\n",
        "import numpy as np\n",
        "import matplotlib.pyplot as plt\n",
        "\n",
        "\n",
        "# Criando dados aleatórios a partir de um dicionário\n",
        "clientes = [\n",
        "    {\"id\": 1, \"tempo_espera\": 5, \"satisfacao\": 5},\n",
        "    {\"id\": 2, \"tempo_espera\": 12, \"satisfacao\": 3},\n",
        "    {\"id\": 3, \"tempo_espera\": 3, \"satisfacao\": 5},\n",
        "    {\"id\": 4, \"tempo_espera\": 20, \"satisfacao\": 2},\n",
        "    {\"id\": 5, \"tempo_espera\": 7, \"satisfacao\": 4},\n",
        "    {\"id\": 6, \"tempo_espera\": 15, \"satisfacao\": 3},\n",
        "    {\"id\": 7, \"tempo_espera\": 2, \"satisfacao\": 5},\n",
        "    {\"id\": 8, \"tempo_espera\": 30, \"satisfacao\": 1},\n",
        "    {\"id\": 9, \"tempo_espera\": 9, \"satisfacao\": 4},\n",
        "    {\"id\": 10, \"tempo_espera\": 25, \"satisfacao\": 2}\n",
        "]\n",
        "\n",
        "# Transformando em DataFrame\n",
        "df_clientes = pd.DataFrame(clientes)\n",
        "\n",
        "# Criando um arquivo csv\n",
        "df_clientes.to_csv(\"clientes.csv\", index=False)\n"
      ]
    },
    {
      "cell_type": "code",
      "source": [
        "# Calcular a média de satisfação\n",
        "media_satisfacao = df_clientes[\"satisfacao\"].mean(axis=0)\n",
        "print(f\"A média de satisfação é {media_satisfacao}\")\n",
        "\n",
        "# Calcular a média de tempo de espera\n",
        "media_tempo = df_clientes[\"tempo_espera\"].mean(axis=0)\n",
        "print(f\"A média de tempo de espera é {media_tempo}\")"
      ],
      "metadata": {
        "id": "bRhPt7n_Xf7f",
        "colab": {
          "base_uri": "https://localhost:8080/"
        },
        "outputId": "82c019bd-edd2-4268-bb28-6c0238539486"
      },
      "execution_count": 45,
      "outputs": [
        {
          "output_type": "stream",
          "name": "stdout",
          "text": [
            "A média de satisfação é 3.4\n",
            "A média de tempo de espera é 12.8\n"
          ]
        }
      ]
    },
    {
      "cell_type": "code",
      "source": [
        "# Calcular a mediana da satisfação do cliente\n",
        "mediana_satisfacao = df_clientes[\"satisfacao\"].median(axis=0)\n",
        "print(f\"A mediana da satisfação é {mediana_satisfacao}\")\n",
        "\n",
        "# Calcular a mediana do tempo de espera\n",
        "mediana_tempo = df_clientes[\"tempo_espera\"].median(axis=0)\n",
        "print(f\"A mediana do tempo de espera é {mediana_tempo}\")"
      ],
      "metadata": {
        "id": "NgVns8If4jyQ",
        "colab": {
          "base_uri": "https://localhost:8080/"
        },
        "outputId": "0fcac123-763f-4fe9-9a62-950a3d8eeb93"
      },
      "execution_count": 46,
      "outputs": [
        {
          "output_type": "stream",
          "name": "stdout",
          "text": [
            "A mediana da satisfação é 3.5\n",
            "A mediana do tempo de espera é 10.5\n"
          ]
        }
      ]
    },
    {
      "cell_type": "code",
      "source": [
        "# Calcular a moda da satisfação do cliente\n",
        "moda_satisfacao = df_clientes[\"satisfacao\"].mode()\n",
        "print(f\"A moda da satisfação é {moda_satisfacao.iloc[0]}\")\n",
        "\n",
        "# Não há moda no tempo de espera"
      ],
      "metadata": {
        "id": "cvES_rmhJyRE",
        "colab": {
          "base_uri": "https://localhost:8080/"
        },
        "outputId": "5aeebb4f-4fb8-47f6-a821-f4bd14d63485"
      },
      "execution_count": 47,
      "outputs": [
        {
          "output_type": "stream",
          "name": "stdout",
          "text": [
            "A moda da satisfação é 5\n"
          ]
        }
      ]
    },
    {
      "cell_type": "code",
      "source": [
        "# Medidas de tendência central e dispersão de satisfação do cliente\n",
        "medidas_satisfacao = df_clientes['satisfacao'].describe(percentiles=None, include=None, exclude=None)\n",
        "print(medidas_satisfacao)"
      ],
      "metadata": {
        "colab": {
          "base_uri": "https://localhost:8080/"
        },
        "id": "xWvOyhZiNqTD",
        "outputId": "1047fe09-4f6c-4de9-dfbb-c76180053598"
      },
      "execution_count": 48,
      "outputs": [
        {
          "output_type": "stream",
          "name": "stdout",
          "text": [
            "count    10.000000\n",
            "mean      3.400000\n",
            "std       1.429841\n",
            "min       1.000000\n",
            "25%       2.250000\n",
            "50%       3.500000\n",
            "75%       4.750000\n",
            "max       5.000000\n",
            "Name: satisfacao, dtype: float64\n"
          ]
        }
      ]
    },
    {
      "cell_type": "code",
      "source": [
        "# Medidas de tendência central e dispersão de tempo de espera dos clientes\n",
        "medidas_tempo = df_clientes['tempo_espera'].describe(percentiles=None, include=None, exclude=None)\n",
        "print(medidas_tempo)"
      ],
      "metadata": {
        "colab": {
          "base_uri": "https://localhost:8080/"
        },
        "id": "3cE0s0x4DEn7",
        "outputId": "963de7f7-ddc8-4b0c-c987-b87c3ceeccab"
      },
      "execution_count": 49,
      "outputs": [
        {
          "output_type": "stream",
          "name": "stdout",
          "text": [
            "count    10.000000\n",
            "mean     12.800000\n",
            "std       9.566144\n",
            "min       2.000000\n",
            "25%       5.500000\n",
            "50%      10.500000\n",
            "75%      18.750000\n",
            "max      30.000000\n",
            "Name: tempo_espera, dtype: float64\n"
          ]
        }
      ]
    },
    {
      "cell_type": "code",
      "source": [
        "# Regressão\n",
        "Y = df_clientes['tempo_espera']\n",
        "X = df_clientes['satisfacao']\n",
        "X = sm.add_constant(df_clientes['satisfacao'])\n",
        "\n",
        "resultado_regressao = sm.OLS(Y, X).fit()\n",
        "print(resultado_regressao.summary())"
      ],
      "metadata": {
        "colab": {
          "base_uri": "https://localhost:8080/"
        },
        "id": "rgSwUGHwPAoz",
        "outputId": "60df414c-3d54-44e6-84ae-c28ec6c4ee1c"
      },
      "execution_count": 50,
      "outputs": [
        {
          "output_type": "stream",
          "name": "stdout",
          "text": [
            "                            OLS Regression Results                            \n",
            "==============================================================================\n",
            "Dep. Variable:           tempo_espera   R-squared:                       0.953\n",
            "Model:                            OLS   Adj. R-squared:                  0.948\n",
            "Method:                 Least Squares   F-statistic:                     163.7\n",
            "Date:                Tue, 06 May 2025   Prob (F-statistic):           1.31e-06\n",
            "Time:                        17:32:09   Log-Likelihood:                -20.914\n",
            "No. Observations:                  10   AIC:                             45.83\n",
            "Df Residuals:                       8   BIC:                             46.43\n",
            "Df Model:                           1                                         \n",
            "Covariance Type:            nonrobust                                         \n",
            "==============================================================================\n",
            "                 coef    std err          t      P>|t|      [0.025      0.975]\n",
            "------------------------------------------------------------------------------\n",
            "const         35.0109      1.869     18.731      0.000      30.701      39.321\n",
            "satisfacao    -6.5326      0.511    -12.793      0.000      -7.710      -5.355\n",
            "==============================================================================\n",
            "Omnibus:                        0.174   Durbin-Watson:                   1.988\n",
            "Prob(Omnibus):                  0.916   Jarque-Bera (JB):                0.364\n",
            "Skew:                          -0.039   Prob(JB):                        0.833\n",
            "Kurtosis:                       2.068   Cond. No.                         10.5\n",
            "==============================================================================\n",
            "\n",
            "Notes:\n",
            "[1] Standard Errors assume that the covariance matrix of the errors is correctly specified.\n"
          ]
        },
        {
          "output_type": "stream",
          "name": "stderr",
          "text": [
            "/usr/local/lib/python3.11/dist-packages/scipy/stats/_axis_nan_policy.py:430: UserWarning: `kurtosistest` p-value may be inaccurate with fewer than 20 observations; only n=10 observations were given.\n",
            "  return hypotest_fun_in(*args, **kwds)\n"
          ]
        }
      ]
    },
    {
      "cell_type": "code",
      "source": [
        "# Obtendo as previsões dentro da amostra\n",
        "df_clientes['Y_previsto'] = resultado_regressao.predict()\n",
        "df_clientes"
      ],
      "metadata": {
        "colab": {
          "base_uri": "https://localhost:8080/",
          "height": 363
        },
        "id": "p-_Jr3X3YXNO",
        "outputId": "1c608f30-23c7-45b1-ead4-0a110c7ac0b9"
      },
      "execution_count": 51,
      "outputs": [
        {
          "output_type": "execute_result",
          "data": {
            "text/plain": [
              "   id  tempo_espera  satisfacao  Y_previsto\n",
              "0   1             5           5    2.347826\n",
              "1   2            12           3   15.413043\n",
              "2   3             3           5    2.347826\n",
              "3   4            20           2   21.945652\n",
              "4   5             7           4    8.880435\n",
              "5   6            15           3   15.413043\n",
              "6   7             2           5    2.347826\n",
              "7   8            30           1   28.478261\n",
              "8   9             9           4    8.880435\n",
              "9  10            25           2   21.945652"
            ],
            "text/html": [
              "\n",
              "  <div id=\"df-6e159325-8159-49e0-a3c1-ef4adfcc1ef4\" class=\"colab-df-container\">\n",
              "    <div>\n",
              "<style scoped>\n",
              "    .dataframe tbody tr th:only-of-type {\n",
              "        vertical-align: middle;\n",
              "    }\n",
              "\n",
              "    .dataframe tbody tr th {\n",
              "        vertical-align: top;\n",
              "    }\n",
              "\n",
              "    .dataframe thead th {\n",
              "        text-align: right;\n",
              "    }\n",
              "</style>\n",
              "<table border=\"1\" class=\"dataframe\">\n",
              "  <thead>\n",
              "    <tr style=\"text-align: right;\">\n",
              "      <th></th>\n",
              "      <th>id</th>\n",
              "      <th>tempo_espera</th>\n",
              "      <th>satisfacao</th>\n",
              "      <th>Y_previsto</th>\n",
              "    </tr>\n",
              "  </thead>\n",
              "  <tbody>\n",
              "    <tr>\n",
              "      <th>0</th>\n",
              "      <td>1</td>\n",
              "      <td>5</td>\n",
              "      <td>5</td>\n",
              "      <td>2.347826</td>\n",
              "    </tr>\n",
              "    <tr>\n",
              "      <th>1</th>\n",
              "      <td>2</td>\n",
              "      <td>12</td>\n",
              "      <td>3</td>\n",
              "      <td>15.413043</td>\n",
              "    </tr>\n",
              "    <tr>\n",
              "      <th>2</th>\n",
              "      <td>3</td>\n",
              "      <td>3</td>\n",
              "      <td>5</td>\n",
              "      <td>2.347826</td>\n",
              "    </tr>\n",
              "    <tr>\n",
              "      <th>3</th>\n",
              "      <td>4</td>\n",
              "      <td>20</td>\n",
              "      <td>2</td>\n",
              "      <td>21.945652</td>\n",
              "    </tr>\n",
              "    <tr>\n",
              "      <th>4</th>\n",
              "      <td>5</td>\n",
              "      <td>7</td>\n",
              "      <td>4</td>\n",
              "      <td>8.880435</td>\n",
              "    </tr>\n",
              "    <tr>\n",
              "      <th>5</th>\n",
              "      <td>6</td>\n",
              "      <td>15</td>\n",
              "      <td>3</td>\n",
              "      <td>15.413043</td>\n",
              "    </tr>\n",
              "    <tr>\n",
              "      <th>6</th>\n",
              "      <td>7</td>\n",
              "      <td>2</td>\n",
              "      <td>5</td>\n",
              "      <td>2.347826</td>\n",
              "    </tr>\n",
              "    <tr>\n",
              "      <th>7</th>\n",
              "      <td>8</td>\n",
              "      <td>30</td>\n",
              "      <td>1</td>\n",
              "      <td>28.478261</td>\n",
              "    </tr>\n",
              "    <tr>\n",
              "      <th>8</th>\n",
              "      <td>9</td>\n",
              "      <td>9</td>\n",
              "      <td>4</td>\n",
              "      <td>8.880435</td>\n",
              "    </tr>\n",
              "    <tr>\n",
              "      <th>9</th>\n",
              "      <td>10</td>\n",
              "      <td>25</td>\n",
              "      <td>2</td>\n",
              "      <td>21.945652</td>\n",
              "    </tr>\n",
              "  </tbody>\n",
              "</table>\n",
              "</div>\n",
              "    <div class=\"colab-df-buttons\">\n",
              "\n",
              "  <div class=\"colab-df-container\">\n",
              "    <button class=\"colab-df-convert\" onclick=\"convertToInteractive('df-6e159325-8159-49e0-a3c1-ef4adfcc1ef4')\"\n",
              "            title=\"Convert this dataframe to an interactive table.\"\n",
              "            style=\"display:none;\">\n",
              "\n",
              "  <svg xmlns=\"http://www.w3.org/2000/svg\" height=\"24px\" viewBox=\"0 -960 960 960\">\n",
              "    <path d=\"M120-120v-720h720v720H120Zm60-500h600v-160H180v160Zm220 220h160v-160H400v160Zm0 220h160v-160H400v160ZM180-400h160v-160H180v160Zm440 0h160v-160H620v160ZM180-180h160v-160H180v160Zm440 0h160v-160H620v160Z\"/>\n",
              "  </svg>\n",
              "    </button>\n",
              "\n",
              "  <style>\n",
              "    .colab-df-container {\n",
              "      display:flex;\n",
              "      gap: 12px;\n",
              "    }\n",
              "\n",
              "    .colab-df-convert {\n",
              "      background-color: #E8F0FE;\n",
              "      border: none;\n",
              "      border-radius: 50%;\n",
              "      cursor: pointer;\n",
              "      display: none;\n",
              "      fill: #1967D2;\n",
              "      height: 32px;\n",
              "      padding: 0 0 0 0;\n",
              "      width: 32px;\n",
              "    }\n",
              "\n",
              "    .colab-df-convert:hover {\n",
              "      background-color: #E2EBFA;\n",
              "      box-shadow: 0px 1px 2px rgba(60, 64, 67, 0.3), 0px 1px 3px 1px rgba(60, 64, 67, 0.15);\n",
              "      fill: #174EA6;\n",
              "    }\n",
              "\n",
              "    .colab-df-buttons div {\n",
              "      margin-bottom: 4px;\n",
              "    }\n",
              "\n",
              "    [theme=dark] .colab-df-convert {\n",
              "      background-color: #3B4455;\n",
              "      fill: #D2E3FC;\n",
              "    }\n",
              "\n",
              "    [theme=dark] .colab-df-convert:hover {\n",
              "      background-color: #434B5C;\n",
              "      box-shadow: 0px 1px 3px 1px rgba(0, 0, 0, 0.15);\n",
              "      filter: drop-shadow(0px 1px 2px rgba(0, 0, 0, 0.3));\n",
              "      fill: #FFFFFF;\n",
              "    }\n",
              "  </style>\n",
              "\n",
              "    <script>\n",
              "      const buttonEl =\n",
              "        document.querySelector('#df-6e159325-8159-49e0-a3c1-ef4adfcc1ef4 button.colab-df-convert');\n",
              "      buttonEl.style.display =\n",
              "        google.colab.kernel.accessAllowed ? 'block' : 'none';\n",
              "\n",
              "      async function convertToInteractive(key) {\n",
              "        const element = document.querySelector('#df-6e159325-8159-49e0-a3c1-ef4adfcc1ef4');\n",
              "        const dataTable =\n",
              "          await google.colab.kernel.invokeFunction('convertToInteractive',\n",
              "                                                    [key], {});\n",
              "        if (!dataTable) return;\n",
              "\n",
              "        const docLinkHtml = 'Like what you see? Visit the ' +\n",
              "          '<a target=\"_blank\" href=https://colab.research.google.com/notebooks/data_table.ipynb>data table notebook</a>'\n",
              "          + ' to learn more about interactive tables.';\n",
              "        element.innerHTML = '';\n",
              "        dataTable['output_type'] = 'display_data';\n",
              "        await google.colab.output.renderOutput(dataTable, element);\n",
              "        const docLink = document.createElement('div');\n",
              "        docLink.innerHTML = docLinkHtml;\n",
              "        element.appendChild(docLink);\n",
              "      }\n",
              "    </script>\n",
              "  </div>\n",
              "\n",
              "\n",
              "    <div id=\"df-3d4484d1-3f64-42b5-a56e-758bde9d4e90\">\n",
              "      <button class=\"colab-df-quickchart\" onclick=\"quickchart('df-3d4484d1-3f64-42b5-a56e-758bde9d4e90')\"\n",
              "                title=\"Suggest charts\"\n",
              "                style=\"display:none;\">\n",
              "\n",
              "<svg xmlns=\"http://www.w3.org/2000/svg\" height=\"24px\"viewBox=\"0 0 24 24\"\n",
              "     width=\"24px\">\n",
              "    <g>\n",
              "        <path d=\"M19 3H5c-1.1 0-2 .9-2 2v14c0 1.1.9 2 2 2h14c1.1 0 2-.9 2-2V5c0-1.1-.9-2-2-2zM9 17H7v-7h2v7zm4 0h-2V7h2v10zm4 0h-2v-4h2v4z\"/>\n",
              "    </g>\n",
              "</svg>\n",
              "      </button>\n",
              "\n",
              "<style>\n",
              "  .colab-df-quickchart {\n",
              "      --bg-color: #E8F0FE;\n",
              "      --fill-color: #1967D2;\n",
              "      --hover-bg-color: #E2EBFA;\n",
              "      --hover-fill-color: #174EA6;\n",
              "      --disabled-fill-color: #AAA;\n",
              "      --disabled-bg-color: #DDD;\n",
              "  }\n",
              "\n",
              "  [theme=dark] .colab-df-quickchart {\n",
              "      --bg-color: #3B4455;\n",
              "      --fill-color: #D2E3FC;\n",
              "      --hover-bg-color: #434B5C;\n",
              "      --hover-fill-color: #FFFFFF;\n",
              "      --disabled-bg-color: #3B4455;\n",
              "      --disabled-fill-color: #666;\n",
              "  }\n",
              "\n",
              "  .colab-df-quickchart {\n",
              "    background-color: var(--bg-color);\n",
              "    border: none;\n",
              "    border-radius: 50%;\n",
              "    cursor: pointer;\n",
              "    display: none;\n",
              "    fill: var(--fill-color);\n",
              "    height: 32px;\n",
              "    padding: 0;\n",
              "    width: 32px;\n",
              "  }\n",
              "\n",
              "  .colab-df-quickchart:hover {\n",
              "    background-color: var(--hover-bg-color);\n",
              "    box-shadow: 0 1px 2px rgba(60, 64, 67, 0.3), 0 1px 3px 1px rgba(60, 64, 67, 0.15);\n",
              "    fill: var(--button-hover-fill-color);\n",
              "  }\n",
              "\n",
              "  .colab-df-quickchart-complete:disabled,\n",
              "  .colab-df-quickchart-complete:disabled:hover {\n",
              "    background-color: var(--disabled-bg-color);\n",
              "    fill: var(--disabled-fill-color);\n",
              "    box-shadow: none;\n",
              "  }\n",
              "\n",
              "  .colab-df-spinner {\n",
              "    border: 2px solid var(--fill-color);\n",
              "    border-color: transparent;\n",
              "    border-bottom-color: var(--fill-color);\n",
              "    animation:\n",
              "      spin 1s steps(1) infinite;\n",
              "  }\n",
              "\n",
              "  @keyframes spin {\n",
              "    0% {\n",
              "      border-color: transparent;\n",
              "      border-bottom-color: var(--fill-color);\n",
              "      border-left-color: var(--fill-color);\n",
              "    }\n",
              "    20% {\n",
              "      border-color: transparent;\n",
              "      border-left-color: var(--fill-color);\n",
              "      border-top-color: var(--fill-color);\n",
              "    }\n",
              "    30% {\n",
              "      border-color: transparent;\n",
              "      border-left-color: var(--fill-color);\n",
              "      border-top-color: var(--fill-color);\n",
              "      border-right-color: var(--fill-color);\n",
              "    }\n",
              "    40% {\n",
              "      border-color: transparent;\n",
              "      border-right-color: var(--fill-color);\n",
              "      border-top-color: var(--fill-color);\n",
              "    }\n",
              "    60% {\n",
              "      border-color: transparent;\n",
              "      border-right-color: var(--fill-color);\n",
              "    }\n",
              "    80% {\n",
              "      border-color: transparent;\n",
              "      border-right-color: var(--fill-color);\n",
              "      border-bottom-color: var(--fill-color);\n",
              "    }\n",
              "    90% {\n",
              "      border-color: transparent;\n",
              "      border-bottom-color: var(--fill-color);\n",
              "    }\n",
              "  }\n",
              "</style>\n",
              "\n",
              "      <script>\n",
              "        async function quickchart(key) {\n",
              "          const quickchartButtonEl =\n",
              "            document.querySelector('#' + key + ' button');\n",
              "          quickchartButtonEl.disabled = true;  // To prevent multiple clicks.\n",
              "          quickchartButtonEl.classList.add('colab-df-spinner');\n",
              "          try {\n",
              "            const charts = await google.colab.kernel.invokeFunction(\n",
              "                'suggestCharts', [key], {});\n",
              "          } catch (error) {\n",
              "            console.error('Error during call to suggestCharts:', error);\n",
              "          }\n",
              "          quickchartButtonEl.classList.remove('colab-df-spinner');\n",
              "          quickchartButtonEl.classList.add('colab-df-quickchart-complete');\n",
              "        }\n",
              "        (() => {\n",
              "          let quickchartButtonEl =\n",
              "            document.querySelector('#df-3d4484d1-3f64-42b5-a56e-758bde9d4e90 button');\n",
              "          quickchartButtonEl.style.display =\n",
              "            google.colab.kernel.accessAllowed ? 'block' : 'none';\n",
              "        })();\n",
              "      </script>\n",
              "    </div>\n",
              "\n",
              "  <div id=\"id_89c60287-1a3c-4a3a-adaa-650878271fdb\">\n",
              "    <style>\n",
              "      .colab-df-generate {\n",
              "        background-color: #E8F0FE;\n",
              "        border: none;\n",
              "        border-radius: 50%;\n",
              "        cursor: pointer;\n",
              "        display: none;\n",
              "        fill: #1967D2;\n",
              "        height: 32px;\n",
              "        padding: 0 0 0 0;\n",
              "        width: 32px;\n",
              "      }\n",
              "\n",
              "      .colab-df-generate:hover {\n",
              "        background-color: #E2EBFA;\n",
              "        box-shadow: 0px 1px 2px rgba(60, 64, 67, 0.3), 0px 1px 3px 1px rgba(60, 64, 67, 0.15);\n",
              "        fill: #174EA6;\n",
              "      }\n",
              "\n",
              "      [theme=dark] .colab-df-generate {\n",
              "        background-color: #3B4455;\n",
              "        fill: #D2E3FC;\n",
              "      }\n",
              "\n",
              "      [theme=dark] .colab-df-generate:hover {\n",
              "        background-color: #434B5C;\n",
              "        box-shadow: 0px 1px 3px 1px rgba(0, 0, 0, 0.15);\n",
              "        filter: drop-shadow(0px 1px 2px rgba(0, 0, 0, 0.3));\n",
              "        fill: #FFFFFF;\n",
              "      }\n",
              "    </style>\n",
              "    <button class=\"colab-df-generate\" onclick=\"generateWithVariable('df_clientes')\"\n",
              "            title=\"Generate code using this dataframe.\"\n",
              "            style=\"display:none;\">\n",
              "\n",
              "  <svg xmlns=\"http://www.w3.org/2000/svg\" height=\"24px\"viewBox=\"0 0 24 24\"\n",
              "       width=\"24px\">\n",
              "    <path d=\"M7,19H8.4L18.45,9,17,7.55,7,17.6ZM5,21V16.75L18.45,3.32a2,2,0,0,1,2.83,0l1.4,1.43a1.91,1.91,0,0,1,.58,1.4,1.91,1.91,0,0,1-.58,1.4L9.25,21ZM18.45,9,17,7.55Zm-12,3A5.31,5.31,0,0,0,4.9,8.1,5.31,5.31,0,0,0,1,6.5,5.31,5.31,0,0,0,4.9,4.9,5.31,5.31,0,0,0,6.5,1,5.31,5.31,0,0,0,8.1,4.9,5.31,5.31,0,0,0,12,6.5,5.46,5.46,0,0,0,6.5,12Z\"/>\n",
              "  </svg>\n",
              "    </button>\n",
              "    <script>\n",
              "      (() => {\n",
              "      const buttonEl =\n",
              "        document.querySelector('#id_89c60287-1a3c-4a3a-adaa-650878271fdb button.colab-df-generate');\n",
              "      buttonEl.style.display =\n",
              "        google.colab.kernel.accessAllowed ? 'block' : 'none';\n",
              "\n",
              "      buttonEl.onclick = () => {\n",
              "        google.colab.notebook.generateWithVariable('df_clientes');\n",
              "      }\n",
              "      })();\n",
              "    </script>\n",
              "  </div>\n",
              "\n",
              "    </div>\n",
              "  </div>\n"
            ],
            "application/vnd.google.colaboratory.intrinsic+json": {
              "type": "dataframe",
              "variable_name": "df_clientes",
              "summary": "{\n  \"name\": \"df_clientes\",\n  \"rows\": 10,\n  \"fields\": [\n    {\n      \"column\": \"id\",\n      \"properties\": {\n        \"dtype\": \"number\",\n        \"std\": 3,\n        \"min\": 1,\n        \"max\": 10,\n        \"num_unique_values\": 10,\n        \"samples\": [\n          9,\n          2,\n          6\n        ],\n        \"semantic_type\": \"\",\n        \"description\": \"\"\n      }\n    },\n    {\n      \"column\": \"tempo_espera\",\n      \"properties\": {\n        \"dtype\": \"number\",\n        \"std\": 9,\n        \"min\": 2,\n        \"max\": 30,\n        \"num_unique_values\": 10,\n        \"samples\": [\n          9,\n          12,\n          15\n        ],\n        \"semantic_type\": \"\",\n        \"description\": \"\"\n      }\n    },\n    {\n      \"column\": \"satisfacao\",\n      \"properties\": {\n        \"dtype\": \"number\",\n        \"std\": 1,\n        \"min\": 1,\n        \"max\": 5,\n        \"num_unique_values\": 5,\n        \"samples\": [\n          3,\n          1,\n          2\n        ],\n        \"semantic_type\": \"\",\n        \"description\": \"\"\n      }\n    },\n    {\n      \"column\": \"Y_previsto\",\n      \"properties\": {\n        \"dtype\": \"number\",\n        \"std\": 9.340589829207149,\n        \"min\": 2.347826086956509,\n        \"max\": 28.47826086956522,\n        \"num_unique_values\": 5,\n        \"samples\": [\n          15.413043478260867,\n          28.47826086956522,\n          21.945652173913043\n        ],\n        \"semantic_type\": \"\",\n        \"description\": \"\"\n      }\n    }\n  ]\n}"
            }
          },
          "metadata": {},
          "execution_count": 51
        }
      ]
    },
    {
      "cell_type": "code",
      "source": [
        "# Correlação\n",
        "correlacao = df_clientes.corr()\n",
        "print(correlacao)"
      ],
      "metadata": {
        "colab": {
          "base_uri": "https://localhost:8080/"
        },
        "id": "XUADqXu-E5hd",
        "outputId": "7d599e39-c4b6-4f6b-884c-4c48dce332f5"
      },
      "execution_count": 52,
      "outputs": [
        {
          "output_type": "stream",
          "name": "stdout",
          "text": [
            "                    id  tempo_espera  satisfacao  Y_previsto\n",
            "id            1.000000      0.475704   -0.410662    0.410662\n",
            "tempo_espera  0.475704      1.000000   -0.976422    0.976422\n",
            "satisfacao   -0.410662     -0.976422    1.000000   -1.000000\n",
            "Y_previsto    0.410662      0.976422   -1.000000    1.000000\n"
          ]
        }
      ]
    },
    {
      "cell_type": "markdown",
      "source": [
        "Como você identificaria outliers nos dados de tempo de espera e satisfação dos clientes? Que impacto esses outliers podem ter na análise estatística e quais decisões você tomaria para lidar com eles?"
      ],
      "metadata": {
        "id": "sQQO8CjaJvwp"
      }
    },
    {
      "cell_type": "code",
      "source": [
        "# Calcular o desvio padrão de satisfação dos clientes (resultado homogêneo)\n",
        "desvio_satisfacao = np.std(df_clientes[\"satisfacao\"])\n",
        "print(f\"O desvio padrão da satisfação é {desvio_satisfacao}\")\n",
        "\n",
        "# Calcular o desvio padrão do tempo de espera dos clientes (resultado heterogêneo)\n",
        "desvio_tempo = np.std(df_clientes[\"tempo_espera\"])\n",
        "print(f\"O desvio padrão da satisfação é {desvio_tempo}\")"
      ],
      "metadata": {
        "id": "Q53ghlJTeoix",
        "colab": {
          "base_uri": "https://localhost:8080/"
        },
        "outputId": "1abdb2b0-b295-4439-eaaf-c45792cd50fb"
      },
      "execution_count": 53,
      "outputs": [
        {
          "output_type": "stream",
          "name": "stdout",
          "text": [
            "O desvio padrão da satisfação é 1.3564659966250538\n",
            "O desvio padrão da satisfação é 9.075241043630742\n"
          ]
        }
      ]
    },
    {
      "cell_type": "code",
      "source": [
        "# Calcular o Z-score da satisfação dos clientes\n",
        "z_satisfacao = ((df_clientes[\"satisfacao\"]) - np.mean(df_clientes[\"satisfacao\"])) / np.std(df_clientes[\"satisfacao\"])\n",
        "z_satisfacao\n",
        "\n",
        "# Calcular o Z-score do tempo de espera\n",
        "z_tempo = ((df_clientes[\"tempo_espera\"]) - np.mean(df_clientes[\"tempo_espera\"])) / np.std(df_clientes[\"tempo_espera\"])\n",
        "z_tempo\n"
      ],
      "metadata": {
        "colab": {
          "base_uri": "https://localhost:8080/",
          "height": 397
        },
        "id": "UHiq32KkC4Sd",
        "outputId": "7d722acf-b074-45ba-a81b-87072c2007c6"
      },
      "execution_count": 54,
      "outputs": [
        {
          "output_type": "execute_result",
          "data": {
            "text/plain": [
              "0   -0.859481\n",
              "1   -0.088152\n",
              "2   -1.079861\n",
              "3    0.793367\n",
              "4   -0.639101\n",
              "5    0.242418\n",
              "6   -1.190051\n",
              "7    1.895266\n",
              "8   -0.418722\n",
              "9    1.344317\n",
              "Name: tempo_espera, dtype: float64"
            ],
            "text/html": [
              "<div>\n",
              "<style scoped>\n",
              "    .dataframe tbody tr th:only-of-type {\n",
              "        vertical-align: middle;\n",
              "    }\n",
              "\n",
              "    .dataframe tbody tr th {\n",
              "        vertical-align: top;\n",
              "    }\n",
              "\n",
              "    .dataframe thead th {\n",
              "        text-align: right;\n",
              "    }\n",
              "</style>\n",
              "<table border=\"1\" class=\"dataframe\">\n",
              "  <thead>\n",
              "    <tr style=\"text-align: right;\">\n",
              "      <th></th>\n",
              "      <th>tempo_espera</th>\n",
              "    </tr>\n",
              "  </thead>\n",
              "  <tbody>\n",
              "    <tr>\n",
              "      <th>0</th>\n",
              "      <td>-0.859481</td>\n",
              "    </tr>\n",
              "    <tr>\n",
              "      <th>1</th>\n",
              "      <td>-0.088152</td>\n",
              "    </tr>\n",
              "    <tr>\n",
              "      <th>2</th>\n",
              "      <td>-1.079861</td>\n",
              "    </tr>\n",
              "    <tr>\n",
              "      <th>3</th>\n",
              "      <td>0.793367</td>\n",
              "    </tr>\n",
              "    <tr>\n",
              "      <th>4</th>\n",
              "      <td>-0.639101</td>\n",
              "    </tr>\n",
              "    <tr>\n",
              "      <th>5</th>\n",
              "      <td>0.242418</td>\n",
              "    </tr>\n",
              "    <tr>\n",
              "      <th>6</th>\n",
              "      <td>-1.190051</td>\n",
              "    </tr>\n",
              "    <tr>\n",
              "      <th>7</th>\n",
              "      <td>1.895266</td>\n",
              "    </tr>\n",
              "    <tr>\n",
              "      <th>8</th>\n",
              "      <td>-0.418722</td>\n",
              "    </tr>\n",
              "    <tr>\n",
              "      <th>9</th>\n",
              "      <td>1.344317</td>\n",
              "    </tr>\n",
              "  </tbody>\n",
              "</table>\n",
              "</div><br><label><b>dtype:</b> float64</label>"
            ]
          },
          "metadata": {},
          "execution_count": 54
        }
      ]
    },
    {
      "cell_type": "code",
      "source": [
        "# Adicionar os Z-scores ao DataFrame\n",
        "df_clientes[\"z_satisfacao\"] = z_satisfacao\n",
        "df_clientes[\"z_tempo\"] = z_tempo\n",
        "\n",
        "# Gráfico de dispersão usando os Z-scores\n",
        "sns.scatterplot(x=\"z_satisfacao\", y=\"z_tempo_espera\", data=df_clientes)\n",
        "plt.xlabel(\"Z-score da Satisfação\")\n",
        "plt.ylabel(\"Z-score do Tempo de Espera\")\n",
        "plt.title(\"Dispersão Padronizada entre Satisfação e Tempo de Espera\")\n",
        "plt.show()"
      ],
      "metadata": {
        "colab": {
          "base_uri": "https://localhost:8080/",
          "height": 356
        },
        "id": "FH3HQYPEEenL",
        "outputId": "9f614543-12ad-43f2-830b-634f2ce6d545"
      },
      "execution_count": 55,
      "outputs": [
        {
          "output_type": "error",
          "ename": "ValueError",
          "evalue": "Could not interpret value `z_tempo_espera` for `y`. An entry with this name does not appear in `data`.",
          "traceback": [
            "\u001b[0;31m---------------------------------------------------------------------------\u001b[0m",
            "\u001b[0;31mValueError\u001b[0m                                Traceback (most recent call last)",
            "\u001b[0;32m<ipython-input-55-838e2209519a>\u001b[0m in \u001b[0;36m<cell line: 0>\u001b[0;34m()\u001b[0m\n\u001b[1;32m      4\u001b[0m \u001b[0;34m\u001b[0m\u001b[0m\n\u001b[1;32m      5\u001b[0m \u001b[0;31m# Gráfico de dispersão usando os Z-scores\u001b[0m\u001b[0;34m\u001b[0m\u001b[0;34m\u001b[0m\u001b[0m\n\u001b[0;32m----> 6\u001b[0;31m \u001b[0msns\u001b[0m\u001b[0;34m.\u001b[0m\u001b[0mscatterplot\u001b[0m\u001b[0;34m(\u001b[0m\u001b[0mx\u001b[0m\u001b[0;34m=\u001b[0m\u001b[0;34m\"z_satisfacao\"\u001b[0m\u001b[0;34m,\u001b[0m \u001b[0my\u001b[0m\u001b[0;34m=\u001b[0m\u001b[0;34m\"z_tempo_espera\"\u001b[0m\u001b[0;34m,\u001b[0m \u001b[0mdata\u001b[0m\u001b[0;34m=\u001b[0m\u001b[0mdf_clientes\u001b[0m\u001b[0;34m)\u001b[0m\u001b[0;34m\u001b[0m\u001b[0;34m\u001b[0m\u001b[0m\n\u001b[0m\u001b[1;32m      7\u001b[0m \u001b[0mplt\u001b[0m\u001b[0;34m.\u001b[0m\u001b[0mxlabel\u001b[0m\u001b[0;34m(\u001b[0m\u001b[0;34m\"Z-score da Satisfação\"\u001b[0m\u001b[0;34m)\u001b[0m\u001b[0;34m\u001b[0m\u001b[0;34m\u001b[0m\u001b[0m\n\u001b[1;32m      8\u001b[0m \u001b[0mplt\u001b[0m\u001b[0;34m.\u001b[0m\u001b[0mylabel\u001b[0m\u001b[0;34m(\u001b[0m\u001b[0;34m\"Z-score do Tempo de Espera\"\u001b[0m\u001b[0;34m)\u001b[0m\u001b[0;34m\u001b[0m\u001b[0;34m\u001b[0m\u001b[0m\n",
            "\u001b[0;32m/usr/local/lib/python3.11/dist-packages/seaborn/relational.py\u001b[0m in \u001b[0;36mscatterplot\u001b[0;34m(data, x, y, hue, size, style, palette, hue_order, hue_norm, sizes, size_order, size_norm, markers, style_order, legend, ax, **kwargs)\u001b[0m\n\u001b[1;32m    613\u001b[0m ):\n\u001b[1;32m    614\u001b[0m \u001b[0;34m\u001b[0m\u001b[0m\n\u001b[0;32m--> 615\u001b[0;31m     p = _ScatterPlotter(\n\u001b[0m\u001b[1;32m    616\u001b[0m         \u001b[0mdata\u001b[0m\u001b[0;34m=\u001b[0m\u001b[0mdata\u001b[0m\u001b[0;34m,\u001b[0m\u001b[0;34m\u001b[0m\u001b[0;34m\u001b[0m\u001b[0m\n\u001b[1;32m    617\u001b[0m         \u001b[0mvariables\u001b[0m\u001b[0;34m=\u001b[0m\u001b[0mdict\u001b[0m\u001b[0;34m(\u001b[0m\u001b[0mx\u001b[0m\u001b[0;34m=\u001b[0m\u001b[0mx\u001b[0m\u001b[0;34m,\u001b[0m \u001b[0my\u001b[0m\u001b[0;34m=\u001b[0m\u001b[0my\u001b[0m\u001b[0;34m,\u001b[0m \u001b[0mhue\u001b[0m\u001b[0;34m=\u001b[0m\u001b[0mhue\u001b[0m\u001b[0;34m,\u001b[0m \u001b[0msize\u001b[0m\u001b[0;34m=\u001b[0m\u001b[0msize\u001b[0m\u001b[0;34m,\u001b[0m \u001b[0mstyle\u001b[0m\u001b[0;34m=\u001b[0m\u001b[0mstyle\u001b[0m\u001b[0;34m)\u001b[0m\u001b[0;34m,\u001b[0m\u001b[0;34m\u001b[0m\u001b[0;34m\u001b[0m\u001b[0m\n",
            "\u001b[0;32m/usr/local/lib/python3.11/dist-packages/seaborn/relational.py\u001b[0m in \u001b[0;36m__init__\u001b[0;34m(self, data, variables, legend)\u001b[0m\n\u001b[1;32m    394\u001b[0m         )\n\u001b[1;32m    395\u001b[0m \u001b[0;34m\u001b[0m\u001b[0m\n\u001b[0;32m--> 396\u001b[0;31m         \u001b[0msuper\u001b[0m\u001b[0;34m(\u001b[0m\u001b[0;34m)\u001b[0m\u001b[0;34m.\u001b[0m\u001b[0m__init__\u001b[0m\u001b[0;34m(\u001b[0m\u001b[0mdata\u001b[0m\u001b[0;34m=\u001b[0m\u001b[0mdata\u001b[0m\u001b[0;34m,\u001b[0m \u001b[0mvariables\u001b[0m\u001b[0;34m=\u001b[0m\u001b[0mvariables\u001b[0m\u001b[0;34m)\u001b[0m\u001b[0;34m\u001b[0m\u001b[0;34m\u001b[0m\u001b[0m\n\u001b[0m\u001b[1;32m    397\u001b[0m \u001b[0;34m\u001b[0m\u001b[0m\n\u001b[1;32m    398\u001b[0m         \u001b[0mself\u001b[0m\u001b[0;34m.\u001b[0m\u001b[0mlegend\u001b[0m \u001b[0;34m=\u001b[0m \u001b[0mlegend\u001b[0m\u001b[0;34m\u001b[0m\u001b[0;34m\u001b[0m\u001b[0m\n",
            "\u001b[0;32m/usr/local/lib/python3.11/dist-packages/seaborn/_base.py\u001b[0m in \u001b[0;36m__init__\u001b[0;34m(self, data, variables)\u001b[0m\n\u001b[1;32m    632\u001b[0m         \u001b[0;31m# information for numeric axes would be information about log scales.\u001b[0m\u001b[0;34m\u001b[0m\u001b[0;34m\u001b[0m\u001b[0m\n\u001b[1;32m    633\u001b[0m         \u001b[0mself\u001b[0m\u001b[0;34m.\u001b[0m\u001b[0m_var_ordered\u001b[0m \u001b[0;34m=\u001b[0m \u001b[0;34m{\u001b[0m\u001b[0;34m\"x\"\u001b[0m\u001b[0;34m:\u001b[0m \u001b[0;32mFalse\u001b[0m\u001b[0;34m,\u001b[0m \u001b[0;34m\"y\"\u001b[0m\u001b[0;34m:\u001b[0m \u001b[0;32mFalse\u001b[0m\u001b[0;34m}\u001b[0m  \u001b[0;31m# alt., used DefaultDict\u001b[0m\u001b[0;34m\u001b[0m\u001b[0;34m\u001b[0m\u001b[0m\n\u001b[0;32m--> 634\u001b[0;31m         \u001b[0mself\u001b[0m\u001b[0;34m.\u001b[0m\u001b[0massign_variables\u001b[0m\u001b[0;34m(\u001b[0m\u001b[0mdata\u001b[0m\u001b[0;34m,\u001b[0m \u001b[0mvariables\u001b[0m\u001b[0;34m)\u001b[0m\u001b[0;34m\u001b[0m\u001b[0;34m\u001b[0m\u001b[0m\n\u001b[0m\u001b[1;32m    635\u001b[0m \u001b[0;34m\u001b[0m\u001b[0m\n\u001b[1;32m    636\u001b[0m         \u001b[0;31m# TODO Lots of tests assume that these are called to initialize the\u001b[0m\u001b[0;34m\u001b[0m\u001b[0;34m\u001b[0m\u001b[0m\n",
            "\u001b[0;32m/usr/local/lib/python3.11/dist-packages/seaborn/_base.py\u001b[0m in \u001b[0;36massign_variables\u001b[0;34m(self, data, variables)\u001b[0m\n\u001b[1;32m    677\u001b[0m             \u001b[0;31m# to centralize / standardize data consumption logic.\u001b[0m\u001b[0;34m\u001b[0m\u001b[0;34m\u001b[0m\u001b[0m\n\u001b[1;32m    678\u001b[0m             \u001b[0mself\u001b[0m\u001b[0;34m.\u001b[0m\u001b[0minput_format\u001b[0m \u001b[0;34m=\u001b[0m \u001b[0;34m\"long\"\u001b[0m\u001b[0;34m\u001b[0m\u001b[0;34m\u001b[0m\u001b[0m\n\u001b[0;32m--> 679\u001b[0;31m             \u001b[0mplot_data\u001b[0m \u001b[0;34m=\u001b[0m \u001b[0mPlotData\u001b[0m\u001b[0;34m(\u001b[0m\u001b[0mdata\u001b[0m\u001b[0;34m,\u001b[0m \u001b[0mvariables\u001b[0m\u001b[0;34m)\u001b[0m\u001b[0;34m\u001b[0m\u001b[0;34m\u001b[0m\u001b[0m\n\u001b[0m\u001b[1;32m    680\u001b[0m             \u001b[0mframe\u001b[0m \u001b[0;34m=\u001b[0m \u001b[0mplot_data\u001b[0m\u001b[0;34m.\u001b[0m\u001b[0mframe\u001b[0m\u001b[0;34m\u001b[0m\u001b[0;34m\u001b[0m\u001b[0m\n\u001b[1;32m    681\u001b[0m             \u001b[0mnames\u001b[0m \u001b[0;34m=\u001b[0m \u001b[0mplot_data\u001b[0m\u001b[0;34m.\u001b[0m\u001b[0mnames\u001b[0m\u001b[0;34m\u001b[0m\u001b[0;34m\u001b[0m\u001b[0m\n",
            "\u001b[0;32m/usr/local/lib/python3.11/dist-packages/seaborn/_core/data.py\u001b[0m in \u001b[0;36m__init__\u001b[0;34m(self, data, variables)\u001b[0m\n\u001b[1;32m     56\u001b[0m \u001b[0;34m\u001b[0m\u001b[0m\n\u001b[1;32m     57\u001b[0m         \u001b[0mdata\u001b[0m \u001b[0;34m=\u001b[0m \u001b[0mhandle_data_source\u001b[0m\u001b[0;34m(\u001b[0m\u001b[0mdata\u001b[0m\u001b[0;34m)\u001b[0m\u001b[0;34m\u001b[0m\u001b[0;34m\u001b[0m\u001b[0m\n\u001b[0;32m---> 58\u001b[0;31m         \u001b[0mframe\u001b[0m\u001b[0;34m,\u001b[0m \u001b[0mnames\u001b[0m\u001b[0;34m,\u001b[0m \u001b[0mids\u001b[0m \u001b[0;34m=\u001b[0m \u001b[0mself\u001b[0m\u001b[0;34m.\u001b[0m\u001b[0m_assign_variables\u001b[0m\u001b[0;34m(\u001b[0m\u001b[0mdata\u001b[0m\u001b[0;34m,\u001b[0m \u001b[0mvariables\u001b[0m\u001b[0;34m)\u001b[0m\u001b[0;34m\u001b[0m\u001b[0;34m\u001b[0m\u001b[0m\n\u001b[0m\u001b[1;32m     59\u001b[0m \u001b[0;34m\u001b[0m\u001b[0m\n\u001b[1;32m     60\u001b[0m         \u001b[0mself\u001b[0m\u001b[0;34m.\u001b[0m\u001b[0mframe\u001b[0m \u001b[0;34m=\u001b[0m \u001b[0mframe\u001b[0m\u001b[0;34m\u001b[0m\u001b[0;34m\u001b[0m\u001b[0m\n",
            "\u001b[0;32m/usr/local/lib/python3.11/dist-packages/seaborn/_core/data.py\u001b[0m in \u001b[0;36m_assign_variables\u001b[0;34m(self, data, variables)\u001b[0m\n\u001b[1;32m    230\u001b[0m                 \u001b[0;32melse\u001b[0m\u001b[0;34m:\u001b[0m\u001b[0;34m\u001b[0m\u001b[0;34m\u001b[0m\u001b[0m\n\u001b[1;32m    231\u001b[0m                     \u001b[0merr\u001b[0m \u001b[0;34m+=\u001b[0m \u001b[0;34m\"An entry with this name does not appear in `data`.\"\u001b[0m\u001b[0;34m\u001b[0m\u001b[0;34m\u001b[0m\u001b[0m\n\u001b[0;32m--> 232\u001b[0;31m                 \u001b[0;32mraise\u001b[0m \u001b[0mValueError\u001b[0m\u001b[0;34m(\u001b[0m\u001b[0merr\u001b[0m\u001b[0;34m)\u001b[0m\u001b[0;34m\u001b[0m\u001b[0;34m\u001b[0m\u001b[0m\n\u001b[0m\u001b[1;32m    233\u001b[0m \u001b[0;34m\u001b[0m\u001b[0m\n\u001b[1;32m    234\u001b[0m             \u001b[0;32melse\u001b[0m\u001b[0;34m:\u001b[0m\u001b[0;34m\u001b[0m\u001b[0;34m\u001b[0m\u001b[0m\n",
            "\u001b[0;31mValueError\u001b[0m: Could not interpret value `z_tempo_espera` for `y`. An entry with this name does not appear in `data`."
          ]
        }
      ]
    },
    {
      "cell_type": "code",
      "source": [
        "# Calcular o método do desvio absoluto mediano da satisfação dos clientes\n",
        "mdam_satisfacao = ((df_clientes[\"satisfacao\"]) - np.median(df_clientes[\"satisfacao\"])) / np.median(np.abs(np.std(df_clientes[\"satisfacao\"])))\n",
        "mdam_satisfacao\n",
        "\n",
        "# Calcular o método do desvio absoluto mediano do tempo de espera\n",
        "mdam_tempo = ((df_clientes[\"tempo_espera\"]) - np.median(df_clientes[\"tempo_espera\"])) / np.median(np.abs(np.std(df_clientes[\"tempo_espera\"])))\n",
        "mdam_tempo"
      ],
      "metadata": {
        "colab": {
          "base_uri": "https://localhost:8080/",
          "height": 397
        },
        "id": "04Z1baSkH2IN",
        "outputId": "97ba25de-732b-42b8-a6be-63fc0408d7be"
      },
      "execution_count": 56,
      "outputs": [
        {
          "output_type": "execute_result",
          "data": {
            "text/plain": [
              "0   -0.606045\n",
              "1    0.165285\n",
              "2   -0.826424\n",
              "3    1.046804\n",
              "4   -0.385665\n",
              "5    0.495855\n",
              "6   -0.936614\n",
              "7    2.148703\n",
              "8   -0.165285\n",
              "9    1.597754\n",
              "Name: tempo_espera, dtype: float64"
            ],
            "text/html": [
              "<div>\n",
              "<style scoped>\n",
              "    .dataframe tbody tr th:only-of-type {\n",
              "        vertical-align: middle;\n",
              "    }\n",
              "\n",
              "    .dataframe tbody tr th {\n",
              "        vertical-align: top;\n",
              "    }\n",
              "\n",
              "    .dataframe thead th {\n",
              "        text-align: right;\n",
              "    }\n",
              "</style>\n",
              "<table border=\"1\" class=\"dataframe\">\n",
              "  <thead>\n",
              "    <tr style=\"text-align: right;\">\n",
              "      <th></th>\n",
              "      <th>tempo_espera</th>\n",
              "    </tr>\n",
              "  </thead>\n",
              "  <tbody>\n",
              "    <tr>\n",
              "      <th>0</th>\n",
              "      <td>-0.606045</td>\n",
              "    </tr>\n",
              "    <tr>\n",
              "      <th>1</th>\n",
              "      <td>0.165285</td>\n",
              "    </tr>\n",
              "    <tr>\n",
              "      <th>2</th>\n",
              "      <td>-0.826424</td>\n",
              "    </tr>\n",
              "    <tr>\n",
              "      <th>3</th>\n",
              "      <td>1.046804</td>\n",
              "    </tr>\n",
              "    <tr>\n",
              "      <th>4</th>\n",
              "      <td>-0.385665</td>\n",
              "    </tr>\n",
              "    <tr>\n",
              "      <th>5</th>\n",
              "      <td>0.495855</td>\n",
              "    </tr>\n",
              "    <tr>\n",
              "      <th>6</th>\n",
              "      <td>-0.936614</td>\n",
              "    </tr>\n",
              "    <tr>\n",
              "      <th>7</th>\n",
              "      <td>2.148703</td>\n",
              "    </tr>\n",
              "    <tr>\n",
              "      <th>8</th>\n",
              "      <td>-0.165285</td>\n",
              "    </tr>\n",
              "    <tr>\n",
              "      <th>9</th>\n",
              "      <td>1.597754</td>\n",
              "    </tr>\n",
              "  </tbody>\n",
              "</table>\n",
              "</div><br><label><b>dtype:</b> float64</label>"
            ]
          },
          "metadata": {},
          "execution_count": 56
        }
      ]
    },
    {
      "cell_type": "code",
      "source": [
        "# Adicionar os MDAM ao DataFrame\n",
        "df_clientes[\"mdam_satisfacao\"] = mdam_satisfacao\n",
        "df_clientes[\"mdam_tempo_espera\"] = mdam_tempo\n",
        "\n",
        "# Gráfico de dispersão usando o MDAM\n",
        "sns.scatterplot(x=\"mdam_satisfacao\", y=\"mdam_tempo_espera\", data=df_clientes)\n",
        "plt.xlabel(\"MDAM da Satisfação\")\n",
        "plt.ylabel(\"MDAM do Tempo de Espera\")\n",
        "plt.title(\"Dispersão com MDAM entre Satisfação e Tempo de Espera\")\n",
        "plt.show()"
      ],
      "metadata": {
        "colab": {
          "base_uri": "https://localhost:8080/",
          "height": 472
        },
        "id": "sFnrXUWFJrE6",
        "outputId": "78b74495-cb9a-4da8-c282-54216f92e1e1"
      },
      "execution_count": 57,
      "outputs": [
        {
          "output_type": "display_data",
          "data": {
            "text/plain": [
              "<Figure size 640x480 with 1 Axes>"
            ],
            "image/png": "[encoded data removed]"
          },
          "metadata": {}
        }
      ]
    },
    {
      "cell_type": "code",
      "source": [
        "from sklearn.ensemble import IsolationForest\n",
        "\n",
        "ifr = IsolationForest(contamination=0.05)\n",
        "data = df_clientes[[\"satisfacao\", \"tempo_espera\"]]\n",
        "ifr.fit(data)\n",
        "out = ifr.predict(data)\n",
        "\n",
        "\n",
        "# Adicionar os resultados da previsão (outliers) ao DataFrame\n",
        "df_clientes[\"outlier\"] = out\n",
        "\n",
        "# Gráfico de dispersão com diferenciação de outliers\n",
        "sns.scatterplot(x=\"satisfacao\", y=\"tempo_espera\", hue=\"outlier\", palette={1: 'blue', -1: 'red'}, data=df_clientes)\n",
        "plt.xlabel(\"Satisfação\")\n",
        "plt.ylabel(\"Tempo de Espera\")\n",
        "plt.title(\"Detecção de Outliers com Isolation Forest\")\n",
        "plt.legend(title=\"Outliers\", labels=[\"Não Outlier\", \"Outlier\"])\n",
        "plt.show()"
      ],
      "metadata": {
        "colab": {
          "base_uri": "https://localhost:8080/",
          "height": 472
        },
        "id": "jmpmm0AHJ2Sl",
        "outputId": "2cfffe61-de15-4ebc-a53e-165c2f40faae"
      },
      "execution_count": 58,
      "outputs": [
        {
          "output_type": "display_data",
          "data": {
            "text/plain": [
              "<Figure size 640x480 with 1 Axes>"
            ],
            "image/png": "[encoded data removed]"
          },
          "metadata": {}
        }
      ]
    },
    {
      "cell_type": "code",
      "source": [
        "# Método de Turkey\n",
        "q3 = df_clientes[\"tempo_espera\"].quantile(0.75)\n",
        "q1 = df_clientes[\"tempo_espera\"].quantile(0.25)\n",
        "\n",
        "iqr = q3 - q1\n",
        "\n",
        "limite_superior = q3 + (1.5 * iqr)\n",
        "limite_inferior = q1 - (1.5 * iqr)\n",
        "\n",
        "idx = np.where((df_clientes[\"tempo_espera\"] < limite_inferior) | (df_clientes[\"tempo_espera\"] > limite_superior))\n",
        "\n",
        "# Identificar outliers com base no método de Tukey\n",
        "df_clientes[\"outlier_tukey\"] = ((df_clientes[\"tempo_espera\"] < limite_inferior) |\n",
        "                                (df_clientes[\"tempo_espera\"] > limite_superior))\n",
        "\n",
        "# Gráfico\n",
        "sns.scatterplot(x=\"satisfacao\", y=\"tempo_espera\", hue=\"outlier_tukey\", palette={False: \"blue\", True: \"red\"}, data=df_clientes)\n",
        "plt.xlabel(\"Satisfação\")\n",
        "plt.ylabel(\"Tempo de Espera\")\n",
        "plt.title(\"Detecção de Outliers pelo Método de Tukey\")\n",
        "plt.legend(title=\"Outlier\", labels=[\"Não Outlier\", \"Outlier\"])\n",
        "plt.show()\n"
      ],
      "metadata": {
        "colab": {
          "base_uri": "https://localhost:8080/",
          "height": 472
        },
        "id": "XB9k6c6dMmrE",
        "outputId": "d6684744-77bd-42bf-dbcf-babf61c79c5b"
      },
      "execution_count": 62,
      "outputs": [
        {
          "output_type": "display_data",
          "data": {
            "text/plain": [
              "<Figure size 640x480 with 1 Axes>"
            ],
            "image/png": "[encoded data removed]"
          },
          "metadata": {}
        }
      ]
    },
    {
      "cell_type": "code",
      "source": [
        "from sklearn.impute import KNNImputer\n",
        "\n",
        "# Tratando Outliers\n",
        "# Garantir que o índice seja datetime\n",
        "df_clientes.index = pd.to_datetime(df_clientes.index)\n",
        "\n",
        "# Criar cópia para evitar modificar original diretamente\n",
        "df_corrigido = df_clientes.copy()\n",
        "\n",
        "# Loop por hora e trimestre\n",
        "for h in df_corrigido.index.hour.unique():\n",
        "    for q in df_corrigido.index.quarter.unique():\n",
        "\n",
        "        # Filtrar os dados da hora e trimestre atuais\n",
        "        mask = (df_corrigido.index.hour == h) & (df_corrigido.index.quarter == q)\n",
        "        aux = df_corrigido.loc[mask].copy()\n",
        "\n",
        "        if aux.empty:\n",
        "            continue  # Pula se não houver dados para esse grupo\n",
        "\n",
        "        # Calcular limites de Tukey\n",
        "        q1 = aux[\"tempo_espera\"].quantile(0.25)\n",
        "        q3 = aux[\"tempo_espera\"].quantile(0.75)\n",
        "        iqr = q3 - q1\n",
        "        limite_inferior = q1 - (1.5 * iqr)\n",
        "        limite_superior = q3 + (1.5 * iqr)\n",
        "\n",
        "        # Substituir outliers por NaN\n",
        "        outlier_mask = (aux[\"tempo_espera\"] < limite_inferior) | (aux[\"tempo_espera\"] > limite_superior)\n",
        "        aux.loc[outlier_mask, \"tempo_espera\"] = np.nan\n",
        "\n",
        "        # Aplicar KNN Imputer (apenas colunas numéricas)\n",
        "        imputer = KNNImputer(n_neighbors=15, weights='uniform', metric='nan_euclidean')\n",
        "        aux_imputed = imputer.fit_transform(aux.select_dtypes(include=[np.number]))\n",
        "\n",
        "        # Substituir os valores imputados no DataFrame original\n",
        "        aux.loc[:, aux.select_dtypes(include=[np.number]).columns] = aux_imputed\n",
        "        df_corrigido.loc[mask] = aux\n",
        "\n",
        "# Substitui o df original, se desejar\n",
        "df_clientes = df_corrigido"
      ],
      "metadata": {
        "id": "tCEsFP5yrYN0"
      },
      "execution_count": 69,
      "outputs": []
    },
    {
      "cell_type": "code",
      "source": [
        "# Gráfico do Outlier tratado\n",
        "# Salvar cópia dos dados originais antes do tratamento\n",
        "df_original = df_clientes.copy()\n",
        "\n",
        "# Gráfico de comparação antes e depois do tratamento\n",
        "fig, axes = plt.subplots(1, 2, figsize=(14, 6), sharex=True, sharey=True)\n",
        "\n",
        "# Antes do tratamento\n",
        "sns.scatterplot(ax=axes[0], x=\"satisfacao\", y=\"tempo_espera\", data=df_original, color=\"red\")\n",
        "axes[0].set_title(\"Antes do Tratamento de Outliers\")\n",
        "axes[0].set_xlabel(\"Satisfação\")\n",
        "axes[0].set_ylabel(\"Tempo de Espera\")\n",
        "\n",
        "# Depois do tratamento\n",
        "sns.scatterplot(ax=axes[1], x=\"satisfacao\", y=\"tempo_espera\", data=df_clientes, color=\"blue\")\n",
        "axes[1].set_title(\"Depois do Tratamento com KNN\")\n",
        "axes[1].set_xlabel(\"Satisfação\")\n",
        "axes[1].set_ylabel(\"\")\n",
        "\n",
        "plt.tight_layout()\n",
        "plt.show()"
      ],
      "metadata": {
        "colab": {
          "base_uri": "https://localhost:8080/",
          "height": 598
        },
        "id": "j0uXNz0kt_8w",
        "outputId": "6891744d-c758-4288-f211-be634e98d74a"
      },
      "execution_count": 71,
      "outputs": [
        {
          "output_type": "display_data",
          "data": {
            "text/plain": [
              "<Figure size 1400x600 with 2 Axes>"
            ],
            "image/png": "[encoded data removed]"
          },
          "metadata": {}
        }
      ]
    },
    {
      "cell_type": "markdown",
      "source": [
        "Suponha que a rede de supermercados implemente uma nova política de atendimento em algumas lojas. Como você utilizaria a estatística para comparar o tempo de espera e a satisfação dos clientes entre as lojas com a nova política e as lojas com a política antiga?"
      ],
      "metadata": {
        "id": "FPzDSiAlJy4r"
      }
    },
    {
      "cell_type": "code",
      "source": [
        "# Novo dicionário que será utilizado para as comparações\n",
        "clientes = [\n",
        "    {\"id\": 1, \"tempo_espera\": 3, \"satisfacao\": 5},\n",
        "    {\"id\": 2, \"tempo_espera\": 7, \"satisfacao\": 4},\n",
        "    {\"id\": 3, \"tempo_espera\": 2, \"satisfacao\": 5},\n",
        "    {\"id\": 4, \"tempo_espera\": 10, \"satisfacao\": 3},\n",
        "    {\"id\": 5, \"tempo_espera\": 4, \"satisfacao\": 5},\n",
        "    {\"id\": 6, \"tempo_espera\": 6, \"satisfacao\": 4},\n",
        "    {\"id\": 7, \"tempo_espera\": 1, \"satisfacao\": 5},\n",
        "    {\"id\": 8, \"tempo_espera\": 12, \"satisfacao\": 2},\n",
        "    {\"id\": 9, \"tempo_espera\": 5, \"satisfacao\": 4},\n",
        "    {\"id\": 10, \"tempo_espera\": 8, \"satisfacao\": 3}\n",
        "]\n",
        "\n",
        "df_outra_loja = pd.DataFrame(clientes)"
      ],
      "metadata": {
        "id": "3sR5wwkqJ1j6"
      },
      "execution_count": null,
      "outputs": []
    },
    {
      "cell_type": "code",
      "source": [
        "df_antigo = pd.DataFrame(df_clientes)\n",
        "df_novo = pd.DataFrame(df_outra_loja)"
      ],
      "metadata": {
        "id": "AWU0BQhhfa3H"
      },
      "execution_count": null,
      "outputs": []
    },
    {
      "cell_type": "code",
      "source": [
        "print(\"Média do tempo de espera Loja 1:\", df_antigo[\"tempo_espera\"].mean())\n",
        "print(\"Média do tempo de espera Loja 2:\", df_novo[\"tempo_espera\"].mean())\n",
        "\n",
        "print(\"Média da satisfação Loja 1:\", df_antigo[\"satisfacao\"].mean())\n",
        "print(\"Média da satisfação Loja 2:\", df_novo[\"satisfacao\"].mean())"
      ],
      "metadata": {
        "colab": {
          "base_uri": "https://localhost:8080/"
        },
        "id": "v2sZNdOzfyVd",
        "outputId": "105e0acd-2af8-481a-8c11-8e757b5dbee7"
      },
      "execution_count": null,
      "outputs": [
        {
          "output_type": "stream",
          "name": "stdout",
          "text": [
            "Média do tempo de espera Loja 1: 12.8\n",
            "Média do tempo de espera Loja 2: 5.8\n",
            "Média da satisfação Loja 1: 3.4\n",
            "Média da satisfação Loja 2: 4.0\n"
          ]
        }
      ]
    },
    {
      "cell_type": "markdown",
      "source": [
        "Como você poderia calcular a probabilidade de um cliente esperar mais de 10 minutos na fila, baseado nos dados históricos?"
      ],
      "metadata": {
        "id": "-LSC6Sr_J2CD"
      }
    },
    {
      "cell_type": "code",
      "source": [
        "minutos =  df_clientes[df_clientes['tempo_espera'] >= 10]\n",
        "probabilidade = len(minutos) / len(df_clientes)\n",
        "print(f\"A probabilidade de um cliente esperar mais de 10 minutos é na Loja 1 {probabilidade:.2f}\")\n",
        "\n",
        "minutos_outra_loja =  df_outra_loja[df_outra_loja['tempo_espera'] >= 10]\n",
        "probabilidade_outra_loja = len(minutos_outra_loja) / len(df_outra_loja)\n",
        "print(f\"A probabilidade de um cliente esperar mais de 10 minutos é na Loja 2 {probabilidade_outra_loja:.2f}\")"
      ],
      "metadata": {
        "id": "tyYybHDTJ4_Z",
        "colab": {
          "base_uri": "https://localhost:8080/"
        },
        "outputId": "0a07e6d5-8dac-4206-ea28-6d93681e0524"
      },
      "execution_count": null,
      "outputs": [
        {
          "output_type": "stream",
          "name": "stdout",
          "text": [
            "A probabilidade de um cliente esperar mais de 10 minutos é na Loja 1 0.50\n",
            "A probabilidade de um cliente esperar mais de 10 minutos é na Loja 2 0.20\n"
          ]
        }
      ]
    }
  ]
}