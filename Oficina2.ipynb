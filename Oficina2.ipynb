{
  "nbformat": 4,
  "nbformat_minor": 0,
  "metadata": {
    "colab": {
      "provenance": [],
      "authorship_tag": "ABX9TyM+9mYH71a+H/AhbOoqzQlr",
      "include_colab_link": true
    },
    "kernelspec": {
      "name": "python3",
      "display_name": "Python 3"
    },
    "language_info": {
      "name": "python"
    }
  },
  "cells": [
    {
      "cell_type": "markdown",
      "metadata": {
        "id": "view-in-github",
        "colab_type": "text"
      },
      "source": [
        "<a href=\"https://colab.research.google.com/github/pollymelo/Ciencia_Basico/blob/main/Oficina2.ipynb\" target=\"_parent\"><img src=\"https://colab.research.google.com/assets/colab-badge.svg\" alt=\"Open In Colab\"/></a>"
      ]
    },
    {
      "cell_type": "markdown",
      "source": [
        "Identificar usuários inativos:\n",
        "\n",
        "Passo 1: Obter a lista de todos os usuários.\n",
        "\n",
        "Passo 2: Para cada usuário, verificar a data do último login.\n",
        "\n",
        "Passo 3: Se o último login foi há mais de 30 dias, adicionar o usuário à lista de inativos.\n",
        "\n",
        "Enviar mensagem personalizada:\n",
        "\n",
        "Passo 1: Para cada usuário inativo na lista, criar uma mensagem personalizada.\n",
        "\n",
        "Passo 2: Enviar a mensagem para o usuário.\n"
      ],
      "metadata": {
        "id": "4pRMD6thee5R"
      }
    },
    {
      "cell_type": "code",
      "execution_count": null,
      "metadata": {
        "id": "hr3lcErqec1A",
        "colab": {
          "base_uri": "https://localhost:8080/"
        },
        "outputId": "9ff106b6-ceb4-4857-f0c2-49e75f1086fa"
      },
      "outputs": [
        {
          "output_type": "stream",
          "name": "stdout",
          "text": [
            "Usuários inativos:\n",
            " Nome: Alvaro\n",
            " Nome: Vitor\n",
            "Olá, Alvaro! Sentimos sua falta\n",
            "Olá, Vitor! Sentimos sua falta\n"
          ]
        }
      ],
      "source": [
        "# importando a biblioteca datetime\n",
        "import datetime\n",
        "\n",
        "# fazendo uma lista de usuários e seus logins\n",
        "usuarios = [\n",
        "    {'user': 'Alvaro', 'login': datetime.datetime(2025, 1, 25)},\n",
        " {'user': 'Letícia', 'login': datetime.datetime(2025, 4, 15)},\n",
        "  {'user': 'Vitor', 'login': datetime.datetime(2025, 2, 15)}]\n",
        "\n",
        "# a variável hoje para indicar o dia que está sendo feito a operação do sistema\n",
        "hoje = datetime.datetime.now()\n",
        "\n",
        "# definindo o tempo de último login\n",
        "dias = datetime.timedelta(days=30)\n",
        "\n",
        "#calculando o último login\n",
        "ultimo_login = hoje - dias\n",
        "\n",
        "# cria uma lista vazia e vai adicionando, através do for, os usuários inativos\n",
        "usuarios_inativos = []\n",
        "for usuario in usuarios:\n",
        "    if 'login' in usuario and usuario['login'] < ultimo_login:\n",
        "        usuarios_inativos.append(usuario)\n",
        "\n",
        "# printa os usuários inativos\n",
        "print(\"Usuários inativos:\")\n",
        "for usuario in usuarios_inativos:\n",
        "    print(f\" Nome: {usuario['user']}\")\n",
        "\n",
        "# faz a função mensagem para mandar mensagens para os usuários inativos\n",
        "def mensagem(usuarios_inativos):\n",
        "  if usuarios_inativos:\n",
        "    for usuario in usuarios_inativos:\n",
        "      print(f\"Olá, {usuario['user']}! Sentimos sua falta\")\n",
        "  else:\n",
        "    print(\"Nenhum usuário inativo encontrado\")\n",
        "\n",
        "# manda a mensagem\n",
        "mensagem(usuarios_inativos)"
      ]
    }
  ]
}